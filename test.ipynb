{
 "cells": [
  {
   "cell_type": "code",
   "execution_count": 7,
   "metadata": {},
   "outputs": [],
   "source": [
    "import os\n",
    "import yaml\n",
    "import os.path as osp\n",
    "def load_yaml(file_path):\n",
    "    with open(file_path) as fin:\n",
    "        content = yaml.load(fin, Loader=yaml.FullLoader)\n",
    "    return content\n",
    "\n",
    "content = load_yaml(\"/home/smai/RL/Nasim_Multi_agent/nasim_with_defender/scenarios/benchmark/tiny_with_defender.yaml\")\n"
   ]
  },
  {
   "cell_type": "code",
   "execution_count": 8,
   "metadata": {},
   "outputs": [
    {
     "name": "stdout",
     "output_type": "stream",
     "text": [
      "{'pe_tomcat': {'process': 'tomcat', 'os': 'linux', 'prob': 1.0, 'cost': 1, 'access': 'root'}}\n"
     ]
    }
   ],
   "source": [
    "pre_dict = content[\"privilege_escalation\"]\n",
    "print(pre_dict)"
   ]
  },
  {
   "cell_type": "code",
   "execution_count": 9,
   "metadata": {},
   "outputs": [
    {
     "name": "stdout",
     "output_type": "stream",
     "text": [
      "pe_tomcat {'process': 'tomcat', 'os': 'linux', 'prob': 1.0, 'cost': 1, 'access': 'root'}\n"
     ]
    }
   ],
   "source": [
    "for pe_name, pe in pre_dict.items():\n",
    "    print(pe_name, pe)"
   ]
  }
 ],
 "metadata": {
  "kernelspec": {
   "display_name": "set",
   "language": "python",
   "name": "python3"
  },
  "language_info": {
   "codemirror_mode": {
    "name": "ipython",
    "version": 3
   },
   "file_extension": ".py",
   "mimetype": "text/x-python",
   "name": "python",
   "nbconvert_exporter": "python",
   "pygments_lexer": "ipython3",
   "version": "3.8.13"
  }
 },
 "nbformat": 4,
 "nbformat_minor": 2
}
